{
 "cells": [
  {
   "cell_type": "code",
   "execution_count": null,
   "id": "5b9eaac4",
   "metadata": {},
   "outputs": [],
   "source": [
    "!pip install pandas"
   ]
  },
  {
   "cell_type": "code",
   "execution_count": null,
   "id": "812cef61",
   "metadata": {},
   "outputs": [],
   "source": [
    "import pandas as pd"
   ]
  },
  {
   "cell_type": "code",
   "execution_count": null,
   "id": "58fc58a2",
   "metadata": {},
   "outputs": [],
   "source": [
    "def backtester(weights_df:pd.DataFrame) -> list[float,float]:\n",
    "    # Update the file path here.\n",
    "    data = pd.read_csv(\"crossval_data.csv\")\n",
    "    weights_df = weights_df.fillna(0)\n",
    "\n",
    "    start_date = 3500\n",
    "    end_date = 3999\n",
    "\n",
    "    initial_notional = 1\n",
    "    df_returns = pd.DataFrame()\n",
    "\n",
    "    for i in range(0, 20):\n",
    "        data_symbol = data[data[\"Symbol\"] == i]\n",
    "        data_symbol = data_symbol[\"Close\"]\n",
    "        data_symbol = data_symbol.reset_index(drop=True)\n",
    "        data_symbol = data_symbol / data_symbol.shift(1) - 1\n",
    "        df_returns = pd.concat([df_returns, data_symbol], axis=1, ignore_index=True)\n",
    "\n",
    "    df_returns = df_returns.fillna(0)\n",
    "    weights_df = weights_df.loc[start_date:end_date]\n",
    "    df_returns = df_returns.loc[start_date:end_date]\n",
    "    df_returns = weights_df.mul(df_returns)\n",
    "    notional = initial_notional\n",
    "    returns = []\n",
    "\n",
    "    for date in range(start_date, end_date + 1):\n",
    "        returns.append(df_returns.loc[date].values.sum())\n",
    "        notional = notional * (1 + returns[date - start_date])\n",
    "\n",
    "    net_return = ((notional - initial_notional) / initial_notional) * 100\n",
    "    sharpe_ratio = (pd.DataFrame(returns).mean().values[0]) / pd.DataFrame(\n",
    "        returns\n",
    "    ).std().values[0]\n",
    "    \n",
    "    return [net_return, sharpe_ratio]"
   ]
  },
  {
   "cell_type": "code",
   "execution_count": null,
   "id": "523b216d",
   "metadata": {},
   "outputs": [],
   "source": [
    "def strategy1()->pd.DataFrame:\n",
    "    train_data = pd.read_csv(\"train_data.csv\")\n",
    "    crossval_data = pd.read_csv(\"crossval_data.csv\")\n",
    "    output_df = pd.DataFrame()\n",
    "\n",
    "    # Write your code here\n",
    "\n",
    "    return output_df\n",
    "\n",
    "\n",
    "def strategy2() -> pd.DataFrame:\n",
    "    train_data = pd.read_csv(\"train_data.csv\")\n",
    "    crossval_data = pd.read_csv(\"crossval_data.csv\")\n",
    "    output_df = pd.DataFrame()\n",
    "\n",
    "    # Write your code here\n",
    "\n",
    "    return output_df\n",
    "\n",
    "\n",
    "def strategy3() -> pd.DataFrame:\n",
    "    train_data = pd.read_csv(\"train_data.csv\")\n",
    "    crossval_data = pd.read_csv(\"crossval_data.csv\")\n",
    "    output_df = pd.DataFrame()\n",
    "\n",
    "    # Write your code here\n",
    "\n",
    "    return output_df\n",
    "\n",
    "\n",
    "def strategy4() -> pd.DataFrame:\n",
    "    train_data = pd.read_csv(\"train_data.csv\")\n",
    "    crossval_data = pd.read_csv(\"crossval_data.csv\")\n",
    "    output_df = pd.DataFrame()\n",
    "\n",
    "    # Write your code here\n",
    "\n",
    "    return output_df\n",
    "\n",
    "\n",
    "def strategy5() -> pd.DataFrame:\n",
    "    train_data = pd.read_csv(\"train_data.csv\")\n",
    "    crossval_data = pd.read_csv(\"crossval_data.csv\")\n",
    "    output_df = pd.DataFrame()\n",
    "\n",
    "    # Write your code here\n",
    "\n",
    "    return output_df"
   ]
  },
  {
   "cell_type": "code",
   "execution_count": null,
   "id": "83d6d674",
   "metadata": {},
   "outputs": [],
   "source": [
    "def task1()->None:\n",
    "    strategies : list[pd.DataFrame] = [strategy1(), strategy2(), strategy3(), strategy4(), strategy5()]\n",
    "    performences : list[list[float,float]] = [backtester(strategy) for strategy in strategies]\n",
    "    output_df = pd.DataFrame(performences, columns=['Net Return', 'Sharpe Ratio'], index=[f'Strategy {i+1}' for i in range(5)])\n",
    "    output_df.to_csv(\"task1.csv\")\n",
    "    raise NotImplementedError()"
   ]
  },
  {
   "cell_type": "code",
   "execution_count": null,
   "id": "cc9dee1a",
   "metadata": {},
   "outputs": [],
   "source": [
    "task1()"
   ]
  }
 ],
 "metadata": {
  "kernelspec": {
   "display_name": ".venv (3.11.9)",
   "language": "python",
   "name": "python3"
  },
  "language_info": {
   "codemirror_mode": {
    "name": "ipython",
    "version": 3
   },
   "file_extension": ".py",
   "mimetype": "text/x-python",
   "name": "python",
   "nbconvert_exporter": "python",
   "pygments_lexer": "ipython3",
   "version": "3.11.9"
  }
 },
 "nbformat": 4,
 "nbformat_minor": 5
}
